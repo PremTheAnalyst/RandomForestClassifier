{
 "cells": [
  {
   "cell_type": "code",
   "execution_count": 2,
   "id": "17572704",
   "metadata": {},
   "outputs": [],
   "source": [
    "import pandas as pd\n",
    "import seaborn as sns\n",
    "import numpy as np"
   ]
  },
  {
   "cell_type": "code",
   "execution_count": 3,
   "id": "8443afcb",
   "metadata": {},
   "outputs": [],
   "source": [
    "%matplotlib inline \n",
    "import matplotlib.pyplot as plt"
   ]
  },
  {
   "cell_type": "code",
   "execution_count": 4,
   "id": "293b5157",
   "metadata": {},
   "outputs": [
    {
     "data": {
      "text/html": [
       "<div>\n",
       "<style scoped>\n",
       "    .dataframe tbody tr th:only-of-type {\n",
       "        vertical-align: middle;\n",
       "    }\n",
       "\n",
       "    .dataframe tbody tr th {\n",
       "        vertical-align: top;\n",
       "    }\n",
       "\n",
       "    .dataframe thead th {\n",
       "        text-align: right;\n",
       "    }\n",
       "</style>\n",
       "<table border=\"1\" class=\"dataframe\">\n",
       "  <thead>\n",
       "    <tr style=\"text-align: right;\">\n",
       "      <th></th>\n",
       "      <th>User ID</th>\n",
       "      <th>Gender</th>\n",
       "      <th>Age</th>\n",
       "      <th>EstimatedSalary</th>\n",
       "      <th>Purchased</th>\n",
       "    </tr>\n",
       "  </thead>\n",
       "  <tbody>\n",
       "    <tr>\n",
       "      <th>0</th>\n",
       "      <td>15624510</td>\n",
       "      <td>Male</td>\n",
       "      <td>19</td>\n",
       "      <td>19000</td>\n",
       "      <td>0</td>\n",
       "    </tr>\n",
       "    <tr>\n",
       "      <th>1</th>\n",
       "      <td>15810944</td>\n",
       "      <td>Male</td>\n",
       "      <td>35</td>\n",
       "      <td>20000</td>\n",
       "      <td>0</td>\n",
       "    </tr>\n",
       "    <tr>\n",
       "      <th>2</th>\n",
       "      <td>15668575</td>\n",
       "      <td>Female</td>\n",
       "      <td>26</td>\n",
       "      <td>43000</td>\n",
       "      <td>0</td>\n",
       "    </tr>\n",
       "    <tr>\n",
       "      <th>3</th>\n",
       "      <td>15603246</td>\n",
       "      <td>Female</td>\n",
       "      <td>27</td>\n",
       "      <td>57000</td>\n",
       "      <td>0</td>\n",
       "    </tr>\n",
       "    <tr>\n",
       "      <th>4</th>\n",
       "      <td>15804002</td>\n",
       "      <td>Male</td>\n",
       "      <td>19</td>\n",
       "      <td>76000</td>\n",
       "      <td>0</td>\n",
       "    </tr>\n",
       "    <tr>\n",
       "      <th>5</th>\n",
       "      <td>15728773</td>\n",
       "      <td>Male</td>\n",
       "      <td>27</td>\n",
       "      <td>58000</td>\n",
       "      <td>0</td>\n",
       "    </tr>\n",
       "    <tr>\n",
       "      <th>6</th>\n",
       "      <td>15598044</td>\n",
       "      <td>Female</td>\n",
       "      <td>27</td>\n",
       "      <td>84000</td>\n",
       "      <td>0</td>\n",
       "    </tr>\n",
       "    <tr>\n",
       "      <th>7</th>\n",
       "      <td>15694829</td>\n",
       "      <td>Female</td>\n",
       "      <td>32</td>\n",
       "      <td>150000</td>\n",
       "      <td>1</td>\n",
       "    </tr>\n",
       "    <tr>\n",
       "      <th>8</th>\n",
       "      <td>15600575</td>\n",
       "      <td>Male</td>\n",
       "      <td>25</td>\n",
       "      <td>33000</td>\n",
       "      <td>0</td>\n",
       "    </tr>\n",
       "    <tr>\n",
       "      <th>9</th>\n",
       "      <td>15727311</td>\n",
       "      <td>Female</td>\n",
       "      <td>35</td>\n",
       "      <td>65000</td>\n",
       "      <td>0</td>\n",
       "    </tr>\n",
       "  </tbody>\n",
       "</table>\n",
       "</div>"
      ],
      "text/plain": [
       "    User ID  Gender  Age  EstimatedSalary  Purchased\n",
       "0  15624510    Male   19            19000          0\n",
       "1  15810944    Male   35            20000          0\n",
       "2  15668575  Female   26            43000          0\n",
       "3  15603246  Female   27            57000          0\n",
       "4  15804002    Male   19            76000          0\n",
       "5  15728773    Male   27            58000          0\n",
       "6  15598044  Female   27            84000          0\n",
       "7  15694829  Female   32           150000          1\n",
       "8  15600575    Male   25            33000          0\n",
       "9  15727311  Female   35            65000          0"
      ]
     },
     "execution_count": 4,
     "metadata": {},
     "output_type": "execute_result"
    }
   ],
   "source": [
    "df=pd.read_csv(\"/Users/premswaroop/Desktop/jupyter1/Social_Network_Ads.csv\")\n",
    "df.head(10)"
   ]
  },
  {
   "cell_type": "code",
   "execution_count": 5,
   "id": "c71c39ed",
   "metadata": {
    "scrolled": true
   },
   "outputs": [
    {
     "data": {
      "text/plain": [
       "User ID            0\n",
       "Gender             0\n",
       "Age                0\n",
       "EstimatedSalary    0\n",
       "Purchased          0\n",
       "dtype: int64"
      ]
     },
     "execution_count": 5,
     "metadata": {},
     "output_type": "execute_result"
    }
   ],
   "source": [
    "df.isna().sum()"
   ]
  },
  {
   "cell_type": "code",
   "execution_count": 6,
   "id": "5a35ba6d",
   "metadata": {},
   "outputs": [],
   "source": [
    "#removing both gender and user id column\n",
    "df.drop(['Gender','User ID'],axis='columns',inplace=True)\n",
    "inputs=df.drop(\"Purchased\",axis='columns')\n",
    "target=df['Purchased']"
   ]
  },
  {
   "cell_type": "code",
   "execution_count": 7,
   "id": "1bf79cd7",
   "metadata": {},
   "outputs": [
    {
     "data": {
      "text/html": [
       "<div>\n",
       "<style scoped>\n",
       "    .dataframe tbody tr th:only-of-type {\n",
       "        vertical-align: middle;\n",
       "    }\n",
       "\n",
       "    .dataframe tbody tr th {\n",
       "        vertical-align: top;\n",
       "    }\n",
       "\n",
       "    .dataframe thead th {\n",
       "        text-align: right;\n",
       "    }\n",
       "</style>\n",
       "<table border=\"1\" class=\"dataframe\">\n",
       "  <thead>\n",
       "    <tr style=\"text-align: right;\">\n",
       "      <th></th>\n",
       "      <th>Age</th>\n",
       "      <th>EstimatedSalary</th>\n",
       "    </tr>\n",
       "  </thead>\n",
       "  <tbody>\n",
       "    <tr>\n",
       "      <th>0</th>\n",
       "      <td>19</td>\n",
       "      <td>19000</td>\n",
       "    </tr>\n",
       "    <tr>\n",
       "      <th>1</th>\n",
       "      <td>35</td>\n",
       "      <td>20000</td>\n",
       "    </tr>\n",
       "    <tr>\n",
       "      <th>2</th>\n",
       "      <td>26</td>\n",
       "      <td>43000</td>\n",
       "    </tr>\n",
       "    <tr>\n",
       "      <th>3</th>\n",
       "      <td>27</td>\n",
       "      <td>57000</td>\n",
       "    </tr>\n",
       "    <tr>\n",
       "      <th>4</th>\n",
       "      <td>19</td>\n",
       "      <td>76000</td>\n",
       "    </tr>\n",
       "  </tbody>\n",
       "</table>\n",
       "</div>"
      ],
      "text/plain": [
       "   Age  EstimatedSalary\n",
       "0   19            19000\n",
       "1   35            20000\n",
       "2   26            43000\n",
       "3   27            57000\n",
       "4   19            76000"
      ]
     },
     "execution_count": 7,
     "metadata": {},
     "output_type": "execute_result"
    }
   ],
   "source": [
    "inputs.head(5)"
   ]
  },
  {
   "cell_type": "code",
   "execution_count": 8,
   "id": "da64bd3b",
   "metadata": {},
   "outputs": [
    {
     "data": {
      "text/plain": [
       "0    0\n",
       "1    0\n",
       "2    0\n",
       "3    0\n",
       "4    0\n",
       "Name: Purchased, dtype: int64"
      ]
     },
     "execution_count": 8,
     "metadata": {},
     "output_type": "execute_result"
    }
   ],
   "source": [
    "target.head()"
   ]
  },
  {
   "cell_type": "code",
   "execution_count": 44,
   "id": "05a1f9b4",
   "metadata": {},
   "outputs": [],
   "source": [
    "from sklearn.model_selection import train_test_split\n",
    "X_train, X_test, y_train, y_test = train_test_split(inputs,target,test_size=0.33)"
   ]
  },
  {
   "cell_type": "code",
   "execution_count": 45,
   "id": "4b4d3f08",
   "metadata": {},
   "outputs": [
    {
     "data": {
      "text/plain": [
       "268"
      ]
     },
     "execution_count": 45,
     "metadata": {},
     "output_type": "execute_result"
    }
   ],
   "source": [
    "len(X_train)"
   ]
  },
  {
   "cell_type": "code",
   "execution_count": 46,
   "id": "13613618",
   "metadata": {},
   "outputs": [
    {
     "data": {
      "text/plain": [
       "132"
      ]
     },
     "execution_count": 46,
     "metadata": {},
     "output_type": "execute_result"
    }
   ],
   "source": [
    "len(X_test)"
   ]
  },
  {
   "cell_type": "code",
   "execution_count": 47,
   "id": "06c48c69",
   "metadata": {},
   "outputs": [],
   "source": [
    "from sklearn.preprocessing import StandardScaler"
   ]
  },
  {
   "cell_type": "code",
   "execution_count": 48,
   "id": "8c4643eb",
   "metadata": {},
   "outputs": [],
   "source": [
    "#using feature transformation\n",
    "#applying standard scaler seperately for both train and test data\n",
    "#in order to avoid overfitting we do it seperately\n",
    "scaler=StandardScaler()\n",
    "X_train_scaled=scaler.fit_transform(X_train)"
   ]
  },
  {
   "cell_type": "code",
   "execution_count": 49,
   "id": "4665ff1b",
   "metadata": {},
   "outputs": [
    {
     "data": {
      "text/plain": [
       "array([[-1.0760555 ,  0.54866463],\n",
       "       [ 0.87247743,  1.12257596],\n",
       "       [-0.14818268,  0.9413408 ],\n",
       "       [ 0.13017917,  0.33722362],\n",
       "       [-1.81835376,  0.4278412 ],\n",
       "       [-1.16884278, -1.38451035],\n",
       "       [-1.0760555 ,  0.48825292],\n",
       "       [-1.16884278,  0.57887049],\n",
       "       [-0.79769365,  0.45804706],\n",
       "       [-0.79769365, -0.20648184],\n",
       "       [ 1.89313754, -1.35430449],\n",
       "       [ 0.87247743, -0.50854043],\n",
       "       [ 0.40854102, -0.41792286],\n",
       "       [-0.42654452, -1.11265762],\n",
       "       [ 0.22296646,  0.21640018],\n",
       "       [ 0.22296646, -0.62936387],\n",
       "       [ 1.15083928,  0.60907635],\n",
       "       [ 0.87247743, -0.53874629],\n",
       "       [ 1.80035026, -0.2366877 ],\n",
       "       [-0.33375724, -0.75018731],\n",
       "       [-0.89048094,  0.51845878],\n",
       "       [-0.24096996, -0.20648184],\n",
       "       [ 0.13017917,  1.99854587],\n",
       "       [ 1.52198841,  1.21319353],\n",
       "       [ 1.80035026,  1.63607556],\n",
       "       [-0.14818268,  0.21640018],\n",
       "       [ 0.87247743,  1.36422283],\n",
       "       [-0.05539539, -1.0522459 ],\n",
       "       [-1.26163007, -0.387717  ],\n",
       "       [-0.70490637,  1.18298768],\n",
       "       [ 0.40854102, -0.44812872],\n",
       "       [ 0.87247743, -1.44492207],\n",
       "       [-0.24096996, -0.53874629],\n",
       "       [ 1.058052  , -0.08565841],\n",
       "       [-0.89048094,  0.33722362],\n",
       "       [-0.51933181,  0.54866463],\n",
       "       [ 1.42920113,  0.12578261],\n",
       "       [-1.81835376, -0.71998145],\n",
       "       [ 0.31575374, -0.2366877 ],\n",
       "       [ 0.40854102,  0.21640018],\n",
       "       [-1.0760555 , -1.59595136],\n",
       "       [-1.81835376, -0.47833457],\n",
       "       [ 2.07871211,  1.03195838],\n",
       "       [-1.26163007, -0.387717  ],\n",
       "       [ 1.058052  , -1.20327519],\n",
       "       [ 0.68690287,  0.33722362],\n",
       "       [-0.89048094, -0.26689356],\n",
       "       [-0.42654452, -1.20327519],\n",
       "       [ 1.15083928, -0.71998145],\n",
       "       [ 1.80035026, -1.0522459 ],\n",
       "       [-0.42654452, -0.75018731],\n",
       "       [-0.24096996,  0.12578261],\n",
       "       [-0.14818268, -0.47833457],\n",
       "       [-0.05539539, -0.32730528],\n",
       "       [ 1.24362656, -1.35430449],\n",
       "       [ 0.77969015, -1.38451035],\n",
       "       [ 0.40854102,  0.15598847],\n",
       "       [ 0.31575374, -0.14607012],\n",
       "       [-1.26163007, -1.23348105],\n",
       "       [-0.89048094, -0.93142246],\n",
       "       [-1.0760555 ,  0.36742948],\n",
       "       [-1.6327792 ,  0.4278412 ],\n",
       "       [-0.51933181,  1.48504627],\n",
       "       [-0.24096996,  0.21640018],\n",
       "       [ 1.058052  , -1.20327519],\n",
       "       [-1.0760555 , -1.5657455 ],\n",
       "       [-0.05539539,  0.76010565],\n",
       "       [-1.0760555 ,  0.12578261],\n",
       "       [ 1.89313754,  0.82051737],\n",
       "       [ 1.058052  ,  0.63928221],\n",
       "       [-1.26163007, -1.08245176],\n",
       "       [-0.24096996, -0.2366877 ],\n",
       "       [-0.70490637,  2.02875173],\n",
       "       [-0.89048094, -0.71998145],\n",
       "       [ 0.77969015,  0.4278412 ],\n",
       "       [ 0.96526472,  0.85072323],\n",
       "       [-0.51933181, -1.50533378],\n",
       "       [ 1.98592483, -1.17306933],\n",
       "       [-0.14818268, -0.41792286],\n",
       "       [ 1.98592483,  1.87772243],\n",
       "       [-1.35441735, -0.14607012],\n",
       "       [-0.98326822,  0.85072323],\n",
       "       [ 0.96526472, -1.17306933],\n",
       "       [ 0.87247743, -1.29389277],\n",
       "       [ 0.31575374, -0.26689356],\n",
       "       [-0.24096996,  0.2768119 ],\n",
       "       [-1.0760555 , -1.53553964],\n",
       "       [ 0.22296646, -0.26689356],\n",
       "       [ 0.13017917,  1.99854587],\n",
       "       [ 0.77969015,  0.60907635],\n",
       "       [ 1.98592483,  0.45804706],\n",
       "       [-1.81835376,  0.00495917],\n",
       "       [-1.72556648,  0.24660604],\n",
       "       [ 0.68690287, -1.38451035],\n",
       "       [-1.0760555 ,  1.51525213],\n",
       "       [-1.0760555 , -0.99183418],\n",
       "       [ 2.07871211,  1.21319353],\n",
       "       [-0.05539539, -0.17627598],\n",
       "       [ 0.59411559, -0.87101074],\n",
       "       [-0.05539539,  0.36742948],\n",
       "       [ 0.96526472,  0.18619433],\n",
       "       [ 2.07871211,  0.45804706],\n",
       "       [ 0.31575374,  0.57887049],\n",
       "       [-1.44720463, -0.387717  ],\n",
       "       [ 1.15083928, -1.44492207],\n",
       "       [ 0.31575374, -0.50854043],\n",
       "       [-0.61211909, -1.50533378],\n",
       "       [-0.05539539,  0.06537089],\n",
       "       [-1.16884278,  0.66948807],\n",
       "       [-0.89048094,  0.57887049],\n",
       "       [ 0.13017917,  0.85072323],\n",
       "       [-1.72556648, -1.47512792],\n",
       "       [-1.26163007, -1.35430449],\n",
       "       [-0.05539539,  0.30701776],\n",
       "       [ 0.13017917, -0.26689356],\n",
       "       [-0.98326822, -1.11265762],\n",
       "       [-0.24096996,  0.88092908],\n",
       "       [-0.51933181,  1.48504627],\n",
       "       [ 0.96526472,  2.11936931],\n",
       "       [-0.05539539, -0.44812872],\n",
       "       [-0.70490637,  0.63928221],\n",
       "       [ 0.87247743, -0.62936387],\n",
       "       [ 1.33641385,  2.48183962],\n",
       "       [-0.98326822, -0.29709942],\n",
       "       [ 0.03739189, -0.53874629],\n",
       "       [ 1.058052  , -0.96162832],\n",
       "       [ 1.70756298,  1.96834001],\n",
       "       [ 0.40854102,  1.0923701 ],\n",
       "       [ 0.03739189,  0.09557675],\n",
       "       [-0.24096996, -1.23348105],\n",
       "       [-0.24096996, -0.71998145],\n",
       "       [ 1.33641385,  1.39442869],\n",
       "       [-1.72556648, -1.26368691],\n",
       "       [-0.89048094, -0.26689356],\n",
       "       [-0.05539539,  0.21640018],\n",
       "       [ 0.22296646,  1.18298768],\n",
       "       [-0.14818268, -0.53874629],\n",
       "       [-1.26163007, -0.29709942],\n",
       "       [ 1.89313754,  1.00175252],\n",
       "       [ 0.77969015, -0.26689356],\n",
       "       [ 0.87247743, -1.14286347],\n",
       "       [ 0.22296646,  0.09557675],\n",
       "       [-0.51933181,  0.97154666],\n",
       "       [-0.61211909,  0.09557675],\n",
       "       [ 1.52198841,  0.06537089],\n",
       "       [ 0.03739189,  0.36742948],\n",
       "       [ 0.77969015,  0.18619433],\n",
       "       [-0.70490637,  1.45484041],\n",
       "       [ 0.13017917,  0.15598847],\n",
       "       [ 0.96526472, -1.0522459 ],\n",
       "       [-0.14818268,  2.30060446],\n",
       "       [ 0.22296646,  0.12578261],\n",
       "       [-0.61211909,  0.18619433],\n",
       "       [ 0.40854102,  0.33722362],\n",
       "       [ 0.40854102,  0.36742948],\n",
       "       [ 0.22296646, -0.32730528],\n",
       "       [-0.24096996, -1.38451035],\n",
       "       [-0.24096996, -0.44812872],\n",
       "       [-1.0760555 , -1.14286347],\n",
       "       [-0.79769365, -1.20327519],\n",
       "       [ 0.31575374, -0.47833457],\n",
       "       [ 1.80035026,  0.18619433],\n",
       "       [-0.79769365, -0.75018731],\n",
       "       [ 0.40854102,  1.21319353],\n",
       "       [-0.70490637,  0.57887049],\n",
       "       [ 0.13017917,  0.09557675],\n",
       "       [ 0.22296646, -0.08565841],\n",
       "       [-0.05539539,  2.30060446],\n",
       "       [-0.98326822, -1.53553964],\n",
       "       [ 1.70756298, -0.2366877 ],\n",
       "       [-0.79769365,  2.4214279 ],\n",
       "       [-0.70490637, -0.56895215],\n",
       "       [-0.89048094, -1.08245176],\n",
       "       [-0.05539539, -0.47833457],\n",
       "       [-1.72556648,  0.51845878],\n",
       "       [-0.89048094, -0.387717  ],\n",
       "       [-0.42654452, -0.81059902],\n",
       "       [ 2.07871211, -0.78039317],\n",
       "       [-1.16884278, -1.0522459 ],\n",
       "       [-0.24096996, -1.35430449],\n",
       "       [ 0.03739189,  0.09557675],\n",
       "       [-1.44720463, -1.50533378],\n",
       "       [-1.44720463,  0.39763534],\n",
       "       [ 0.13017917,  0.2768119 ],\n",
       "       [-1.44720463, -1.23348105],\n",
       "       [ 0.03739189,  1.36422283],\n",
       "       [ 1.52198841, -1.26368691],\n",
       "       [-0.89048094,  1.66628142],\n",
       "       [ 0.96526472, -1.0522459 ],\n",
       "       [ 1.42920113, -1.02204004],\n",
       "       [ 1.33641385, -0.9012166 ],\n",
       "       [ 0.13017917, -0.78039317],\n",
       "       [-0.42654452, -0.50854043],\n",
       "       [ 1.98592483,  0.24660604],\n",
       "       [ 0.40854102, -0.08565841],\n",
       "       [ 1.6147757 ,  1.72669314],\n",
       "       [-0.24096996, -0.29709942],\n",
       "       [-0.14818268, -0.2366877 ],\n",
       "       [ 0.40854102, -0.08565841],\n",
       "       [ 0.03739189, -0.20648184],\n",
       "       [ 0.77969015,  0.33722362],\n",
       "       [ 1.89313754, -0.9012166 ],\n",
       "       [ 1.058052  , -0.87101074],\n",
       "       [ 1.058052  ,  2.20998688],\n",
       "       [-0.70490637,  0.36742948],\n",
       "       [-0.24096996, -0.53874629],\n",
       "       [ 0.40854102,  2.45163376],\n",
       "       [ 0.87247743, -0.75018731],\n",
       "       [ 0.31575374,  0.09557675],\n",
       "       [-0.98326822, -0.32730528],\n",
       "       [ 0.96526472,  1.54545798],\n",
       "       [-0.98326822, -1.44492207],\n",
       "       [-1.16884278,  0.36742948],\n",
       "       [-0.24096996,  1.21319353],\n",
       "       [-0.98326822, -0.41792286],\n",
       "       [ 0.68690287, -1.08245176],\n",
       "       [ 1.24362656,  1.99854587],\n",
       "       [-0.42654452,  1.36422283],\n",
       "       [-1.53999192,  0.12578261],\n",
       "       [-1.0760555 , -1.59595136],\n",
       "       [-0.33375724,  1.42463455],\n",
       "       [ 0.68690287, -1.26368691],\n",
       "       [-1.6327792 , -0.96162832],\n",
       "       [ 0.13017917, -0.20648184],\n",
       "       [-0.51933181,  2.48183962],\n",
       "       [-0.33375724,  0.12578261],\n",
       "       [-1.6327792 ,  0.4278412 ],\n",
       "       [ 0.22296646, -0.20648184],\n",
       "       [ 1.89313754,  2.30060446],\n",
       "       [ 0.77969015, -1.20327519],\n",
       "       [-0.05539539,  0.36742948],\n",
       "       [-0.51933181,  2.02875173],\n",
       "       [-1.53999192,  0.00495917],\n",
       "       [-1.0760555 ,  0.36742948],\n",
       "       [-1.0760555 , -0.75018731],\n",
       "       [ 0.96526472,  1.90792829],\n",
       "       [-0.61211909,  0.00495917],\n",
       "       [-0.24096996, -0.26689356],\n",
       "       [ 1.15083928, -0.96162832],\n",
       "       [ 0.96526472, -0.81059902],\n",
       "       [ 0.87247743,  2.30060446],\n",
       "       [ 0.40854102,  0.36742948],\n",
       "       [ 0.5013283 ,  1.84751658],\n",
       "       [-1.44720463, -0.14607012],\n",
       "       [-1.53999192,  0.60907635],\n",
       "       [ 0.03739189, -0.53874629],\n",
       "       [-1.26163007, -1.47512792],\n",
       "       [-0.05539539,  0.33722362],\n",
       "       [-0.24096996, -0.62936387],\n",
       "       [-0.70490637,  0.33722362],\n",
       "       [-0.79769365, -0.62936387],\n",
       "       [ 0.77969015, -1.08245176],\n",
       "       [ 1.98592483, -0.78039317],\n",
       "       [ 0.03739189, -0.26689356],\n",
       "       [ 0.22296646,  2.24019274],\n",
       "       [ 0.22296646, -0.32730528],\n",
       "       [-0.89048094,  0.63928221],\n",
       "       [-1.72556648, -1.41471621],\n",
       "       [-1.0760555 ,  0.39763534],\n",
       "       [ 1.6147757 ,  1.87772243],\n",
       "       [ 0.68690287, -0.68977559],\n",
       "       [ 0.40854102, -0.41792286],\n",
       "       [-1.81835376,  0.54866463],\n",
       "       [ 1.89313754, -0.62936387],\n",
       "       [ 0.87247743, -1.02204004],\n",
       "       [-0.70490637, -0.17627598],\n",
       "       [-1.35441735,  0.4278412 ],\n",
       "       [ 0.22296646, -0.2366877 ]])"
      ]
     },
     "execution_count": 49,
     "metadata": {},
     "output_type": "execute_result"
    }
   ],
   "source": [
    "X_train_scaled"
   ]
  },
  {
   "cell_type": "code",
   "execution_count": 50,
   "id": "edf7b50e",
   "metadata": {},
   "outputs": [
    {
     "data": {
      "text/plain": [
       "array([[-0.79769365,  0.36742948],\n",
       "       [ 1.98592483,  2.2703986 ],\n",
       "       [-0.05539539,  0.2768119 ],\n",
       "       [-0.24096996, -0.08565841],\n",
       "       [-0.61211909, -1.02204004],\n",
       "       [ 0.31575374, -0.47833457],\n",
       "       [-0.14818268,  1.51525213],\n",
       "       [-0.24096996, -0.387717  ],\n",
       "       [-0.24096996,  0.69969393],\n",
       "       [-1.0760555 , -1.08245176],\n",
       "       [-0.24096996, -0.32730528],\n",
       "       [-0.24096996,  0.60907635],\n",
       "       [ 0.40854102,  0.66948807],\n",
       "       [-1.35441735, -0.05545255],\n",
       "       [-1.35441735, -0.59915801],\n",
       "       [-0.98326822,  2.08916345],\n",
       "       [-0.79769365,  0.45804706],\n",
       "       [-0.61211909, -0.05545255],\n",
       "       [ 0.31575374,  0.33722362],\n",
       "       [ 0.31575374,  0.12578261],\n",
       "       [ 1.33641385,  2.11936931],\n",
       "       [-0.05539539,  2.08916345],\n",
       "       [-0.98326822,  0.48825292],\n",
       "       [-1.6327792 , -0.56895215],\n",
       "       [-0.61211909, -0.29709942],\n",
       "       [ 1.42920113,  0.4278412 ],\n",
       "       [ 0.96526472,  1.99854587],\n",
       "       [-0.98326822, -0.29709942],\n",
       "       [-0.05539539,  0.09557675],\n",
       "       [ 0.13017917,  1.15278182],\n",
       "       [ 2.07871211, -0.78039317],\n",
       "       [-1.26163007,  0.63928221],\n",
       "       [ 1.058052  ,  0.18619433],\n",
       "       [ 0.96526472, -0.99183418],\n",
       "       [ 0.31575374, -0.68977559],\n",
       "       [ 0.87247743,  1.18298768],\n",
       "       [ 0.13017917, -0.78039317],\n",
       "       [-1.35441735, -1.44492207],\n",
       "       [-0.24096996, -0.9012166 ],\n",
       "       [ 0.68690287, -1.38451035],\n",
       "       [ 0.22296646,  0.30701776],\n",
       "       [ 0.40854102,  0.06537089],\n",
       "       [-0.79769365, -0.75018731],\n",
       "       [-0.98326822,  0.66948807],\n",
       "       [-1.72556648,  0.06537089],\n",
       "       [-0.51933181, -1.50533378],\n",
       "       [-0.70490637, -1.53553964],\n",
       "       [-1.0760555 , -0.47833457],\n",
       "       [-0.24096996,  0.33722362],\n",
       "       [-1.16884278,  0.33722362],\n",
       "       [-0.61211909,  0.63928221],\n",
       "       [-1.26163007,  0.48825292],\n",
       "       [ 0.31575374,  0.12578261],\n",
       "       [ 0.13017917,  1.63607556],\n",
       "       [ 1.33641385,  0.66948807],\n",
       "       [-0.24096996,  0.21640018],\n",
       "       [ 0.87247743, -1.35430449],\n",
       "       [-0.05539539,  0.18619433],\n",
       "       [ 0.96526472, -1.14286347],\n",
       "       [-0.33375724,  1.33401697],\n",
       "       [-0.98326822,  0.63928221],\n",
       "       [-0.14818268,  1.756899  ],\n",
       "       [-0.05539539,  2.36101618],\n",
       "       [ 0.03739189, -0.08565841],\n",
       "       [ 1.42920113,  1.0923701 ],\n",
       "       [-0.42654452,  0.03516503],\n",
       "       [ 0.96526472,  2.20998688],\n",
       "       [ 1.24362656,  2.36101618],\n",
       "       [ 0.13017917,  0.09557675],\n",
       "       [ 0.87247743, -0.56895215],\n",
       "       [ 0.77969015, -1.35430449],\n",
       "       [-1.72556648, -1.29389277],\n",
       "       [-0.79769365,  0.21640018],\n",
       "       [-0.98326822,  0.60907635],\n",
       "       [-1.6327792 ,  0.54866463],\n",
       "       [ 1.6147757 , -0.87101074],\n",
       "       [ 0.03739189,  1.33401697],\n",
       "       [-0.42654452,  2.45163376],\n",
       "       [ 0.59411559,  2.14957517],\n",
       "       [-1.6327792 ,  0.18619433],\n",
       "       [ 0.40854102, -0.11586427],\n",
       "       [ 0.77969015,  0.85072323],\n",
       "       [ 0.31575374, -1.14286347],\n",
       "       [-0.61211909,  0.24660604],\n",
       "       [ 0.03739189, -0.50854043],\n",
       "       [-1.6327792 , -1.35430449],\n",
       "       [-0.24096996, -1.44492207],\n",
       "       [-0.61211909, -1.59595136],\n",
       "       [ 2.07871211, -0.65956973],\n",
       "       [ 0.22296646, -0.32730528],\n",
       "       [-0.14818268,  1.72669314],\n",
       "       [-0.14818268, -0.14607012],\n",
       "       [ 0.5013283 ,  1.33401697],\n",
       "       [-1.35441735, -1.20327519],\n",
       "       [-0.51933181,  1.57566384],\n",
       "       [ 0.03739189, -0.20648184],\n",
       "       [-0.89048094,  0.48825292],\n",
       "       [ 1.33641385, -1.41471621],\n",
       "       [-0.24096996,  0.12578261],\n",
       "       [-0.33375724, -1.29389277],\n",
       "       [-0.14818268, -1.0522459 ],\n",
       "       [ 0.13017917,  0.21640018],\n",
       "       [-0.70490637, -1.59595136],\n",
       "       [ 0.31575374,  0.36742948],\n",
       "       [ 1.80035026, -1.26368691],\n",
       "       [-0.24096996,  0.09557675],\n",
       "       [-0.24096996, -0.87101074],\n",
       "       [-0.24096996, -1.29389277],\n",
       "       [-0.61211909,  1.51525213],\n",
       "       [ 0.77969015, -0.81059902],\n",
       "       [ 0.77969015,  1.48504627],\n",
       "       [ 0.96526472,  0.66948807],\n",
       "       [ 1.98592483,  0.60907635],\n",
       "       [ 0.5013283 ,  1.96834001],\n",
       "       [-0.33375724, -0.75018731],\n",
       "       [-0.05539539,  0.12578261],\n",
       "       [ 1.70756298,  1.0923701 ],\n",
       "       [ 0.22296646,  0.21640018],\n",
       "       [ 1.42920113,  2.2703986 ],\n",
       "       [ 0.31575374,  0.12578261],\n",
       "       [-0.42654452, -0.2366877 ],\n",
       "       [-0.24096996,  0.15598847],\n",
       "       [-1.53999192, -1.5657455 ],\n",
       "       [ 2.07871211, -1.02204004],\n",
       "       [ 1.52198841,  1.0923701 ],\n",
       "       [ 0.68690287,  1.90792829],\n",
       "       [ 0.03739189, -0.387717  ],\n",
       "       [-0.05539539, -0.387717  ],\n",
       "       [ 1.058052  ,  0.54866463],\n",
       "       [ 1.058052  ,  0.60907635],\n",
       "       [ 0.31575374,  0.12578261],\n",
       "       [-0.24096996,  2.39122204]])"
      ]
     },
     "execution_count": 50,
     "metadata": {},
     "output_type": "execute_result"
    }
   ],
   "source": [
    "X_test_scaled=scaler.transform(X_test)\n",
    "X_test_scaled"
   ]
  },
  {
   "cell_type": "code",
   "execution_count": 51,
   "id": "e8a492a4",
   "metadata": {},
   "outputs": [
    {
     "data": {
      "text/plain": [
       "RandomForestClassifier(n_estimators=50)"
      ]
     },
     "execution_count": 51,
     "metadata": {},
     "output_type": "execute_result"
    }
   ],
   "source": [
    "from sklearn.ensemble import RandomForestClassifier\n",
    "model=RandomForestClassifier(n_estimators=50)\n",
    "model.fit(X_train_scaled,y_train)"
   ]
  },
  {
   "cell_type": "code",
   "execution_count": 43,
   "id": "63a09804",
   "metadata": {},
   "outputs": [
    {
     "data": {
      "text/plain": [
       "0.90625"
      ]
     },
     "execution_count": 43,
     "metadata": {},
     "output_type": "execute_result"
    }
   ],
   "source": [
    "#this is the accuracy we got after applying standardscaler\n",
    "#test size =0.2\n",
    "model.score(X_test_scaled,y_test)"
   ]
  },
  {
   "cell_type": "code",
   "execution_count": 52,
   "id": "22b6d2e1",
   "metadata": {},
   "outputs": [
    {
     "data": {
      "text/plain": [
       "0.9090909090909091"
      ]
     },
     "execution_count": 52,
     "metadata": {},
     "output_type": "execute_result"
    }
   ],
   "source": [
    "#this is the score we got after increasing test size=0.33\n",
    "#with standardscaler\n",
    "#n_estimators=50\n",
    "model.score(X_test_scaled,y_test)"
   ]
  },
  {
   "cell_type": "code",
   "execution_count": 53,
   "id": "1a143678",
   "metadata": {},
   "outputs": [],
   "source": [
    "#we see that after removing gender column we are getting more accuracy \n",
    "#in random_forest file  we can see accuracy with gender column is around 87%"
   ]
  },
  {
   "cell_type": "code",
   "execution_count": 54,
   "id": "b7b69514",
   "metadata": {},
   "outputs": [],
   "source": [
    "y_predicted=model.predict(X_test_scaled)"
   ]
  },
  {
   "cell_type": "code",
   "execution_count": 55,
   "id": "5a130e46",
   "metadata": {},
   "outputs": [],
   "source": [
    "from sklearn.metrics import confusion_matrix"
   ]
  },
  {
   "cell_type": "code",
   "execution_count": 56,
   "id": "e129670a",
   "metadata": {},
   "outputs": [
    {
     "data": {
      "text/plain": [
       "array([[78,  6],\n",
       "       [ 6, 42]])"
      ]
     },
     "execution_count": 56,
     "metadata": {},
     "output_type": "execute_result"
    }
   ],
   "source": [
    "#here in confusion matrix we first supply our truth then supply our prediction\n",
    "#cm=confusion_matrix(truth,prediction)\n",
    "cm=confusion_matrix(y_test,y_predicted)\n",
    "cm"
   ]
  },
  {
   "cell_type": "code",
   "execution_count": 63,
   "id": "dbaa2d21",
   "metadata": {},
   "outputs": [
    {
     "data": {
      "text/plain": [
       "Text(69.0, 0.5, 'Truth')"
      ]
     },
     "execution_count": 63,
     "metadata": {},
     "output_type": "execute_result"
    },
    {
     "data": {
      "image/png": "[encoded data removed]",
      "text/plain": [
       "<Figure size 720x504 with 2 Axes>"
      ]
     },
     "metadata": {
      "needs_background": "light"
     },
     "output_type": "display_data"
    }
   ],
   "source": [
    "plt.figure(figsize=(10,7))\n",
    "sns.heatmap(cm,annot=True)\n",
    "plt.xlabel(\"Predicted\")\n",
    "plt.ylabel(\"Truth\")"
   ]
  }
 ],
 "metadata": {
  "kernelspec": {
   "display_name": "Python 3 (ipykernel)",
   "language": "python",
   "name": "python3"
  },
  "language_info": {
   "codemirror_mode": {
    "name": "ipython",
    "version": 3
   },
   "file_extension": ".py",
   "mimetype": "text/x-python",
   "name": "python",
   "nbconvert_exporter": "python",
   "pygments_lexer": "ipython3",
   "version": "3.9.7"
  }
 },
 "nbformat": 4,
 "nbformat_minor": 5
}
